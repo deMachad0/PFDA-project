{
 "cells": [
  {
   "cell_type": "markdown",
   "metadata": {},
   "source": [
    "# CASEMENT (1964 - 2024) Data - Wind Speed Analysis\n",
    "\n",
    "## Questions: \n",
    "### How much wind power is there?\n",
    "### "
   ]
  },
  {
   "cell_type": "code",
   "execution_count": null,
   "metadata": {},
   "outputs": [],
   "source": [
    "import pandas as pd \n",
    "import numpy as np \n",
    "import matplotlib.pyplot as plt \n",
    "import seaborn as sns \n",
    "\n",
    "# Load the dataset\n",
    "df = pd.read_csv(\"hly3723.csv\", skiprows=23, low_memory=False)\n",
    "\n",
    "# Convert the 'date' column to datetime \n",
    "df['date'] = pd.to_datetime(df['date'], format=\"%d-%b-%Y %H:%M\", errors='coerce', utc=True)\n",
    "\n",
    "# Extracting the hour from the data\n",
    "df['Hour'] = df['date'].dt.hour\n",
    "\n",
    "# Normalize the 'date' to remove time components\n",
    "df['date'] = df['date'].dt.normalize()\n",
    "\n",
    "# Convert 'wdsp' to numeric and handle errors\n",
    "df['wdsp'] = pd.to_numeric(df['wdsp'], errors='coerce')\n",
    "\n",
    "# Drop empty rows in 'wdsp' \n",
    "df = df.dropna(subset=['wdsp'])\n",
    "\n",
    "# Set 'date' as the index\n",
    "df.set_index('date', inplace=True)\n",
    "\n",
    "hourly_mean_wdsp = df.groupby('Hour')['wdsp'].mean()\n",
    "\n",
    "# Resample to hourly frequency and calculate the mean of 'wdsp'\n",
    "#hourly_mean_wdsp = df['wdsp'].resample('H').mean()\n"
   ]
  }
 ],
 "metadata": {
  "kernelspec": {
   "display_name": "base",
   "language": "python",
   "name": "python3"
  },
  "language_info": {
   "codemirror_mode": {
    "name": "ipython",
    "version": 3
   },
   "file_extension": ".py",
   "mimetype": "text/x-python",
   "name": "python",
   "nbconvert_exporter": "python",
   "pygments_lexer": "ipython3",
   "version": "3.11.9"
  }
 },
 "nbformat": 4,
 "nbformat_minor": 2
}
